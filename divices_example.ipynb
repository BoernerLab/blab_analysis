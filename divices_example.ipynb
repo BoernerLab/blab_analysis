{
 "cells": [
  {
   "attachments": {},
   "cell_type": "markdown",
   "id": "50aff47d",
   "metadata": {},
   "source": [
    "# B-Lab Notebook\n",
    "This Jupyter notebook shows the application of the B-Lab classes and their functions. The usage of those functions is explained below, with examples and additional information.\n",
    "\n",
    "First, as usual, we need to import our libraries:"
   ]
  },
  {
   "cell_type": "code",
   "execution_count": 1,
   "id": "6f3f0db2",
   "metadata": {},
   "outputs": [
    {
     "data": {
      "text/plain": "<Figure size 432x288 with 1 Axes>",
      "image/png": "[encoded data removed]"
     },
     "metadata": {},
     "output_type": "display_data"
    },
    {
     "data": {
      "text/plain": "<Figure size 432x288 with 1 Axes>",
      "image/png": "[encoded data removed]"
     },
     "metadata": {},
     "output_type": "display_data"
    }
   ],
   "source": [
    "from src import devices as blab  # <- crucial import for using the B-Lab functions\n",
    "import matplotlib.pyplot as plt\n",
    "import pandas as pd\n",
    "from scipy import optimize"
   ]
  },
  {
   "attachments": {},
   "cell_type": "markdown",
   "id": "171a1113",
   "metadata": {},
   "source": [
    "## ID5\n",
    "The ID5 spectrometer is one of the laboratory equipment in our research group `B-Lab`. In the following, there are nessessary functions for reading and analyzing ID5-files, calculating important values and visualizing results.\\\n",
    "All functions have a description, in case some input variables seem unclear. Also please notice the output prints of functions! Some functions have valuable information or error messages!"
   ]
  },
  {
   "attachments": {},
   "cell_type": "markdown",
   "metadata": {
    "collapsed": false
   },
   "source": [
    "### <u>Reading the files</u>\n",
    "\n",
    "ID5-files must be saved by the user in TXT- and utf-8 format.\n",
    "\n",
    "FRET measurements use emission and excitation wavelengths. These are not completely or incorrectly exported when writing the ID5-files. Therefore you will need to write the wavelengths into a dictionary, as shown below:"
   ],
   "id": "94d4d0e83f41ce6e"
  },
  {
   "cell_type": "code",
   "execution_count": 2,
   "id": "f7c7ff81",
   "metadata": {},
   "outputs": [],
   "source": [
    "wavelength_pairs = {\n",
    "    \"Dem_Dex\": [530, 595],\n",
    "    \"Aem_Dex\": [530, 660],\n",
    "    \"Aem_Aex\": [630, 660]}"
   ]
  },
  {
   "attachments": {},
   "cell_type": "markdown",
   "id": "9c6deee2",
   "metadata": {},
   "source": [
    "To use these values in the FRET calculations, they need to be passed to the ID5 function in a dictionary.\n",
    "The function `ID5` is much more than just the function to read the files - but this is not relevant now. You need to know the following:\n",
    "- The function requires the name of the file you would like to read and the aforementioned wavelength pairs variable as such: \n",
    "`blab.ID5(filepath, wavelength pairs variable)`\n",
    "\n",
    "If the file has been successfully loaded, the measurements will be displayed. They are named with \"Measurement_\" and a consecutive number. The usage and output is shown below:\n"
   ]
  },
  {
   "cell_type": "code",
   "execution_count": 3,
   "metadata": {
    "collapsed": false
   },
   "outputs": [
    {
     "name": "stdout",
     "output_type": "stream",
     "text": [
      "Measurement_1 = FRET_21°C: Endpoint, Fluorescence\n",
      "Measurement_2 = FRET_23°C: Endpoint, Fluorescence\n",
      "Measurement_3 = FRET_25°C: Endpoint, Fluorescence\n",
      "Measurement_4 = FRET_27°C: Endpoint, Fluorescence\n",
      "Measurement_5 = FRET_29°C: Endpoint, Fluorescence\n",
      "Measurement_6 = FRET_31°C: Endpoint, Fluorescence\n",
      "Measurement_7 = FRET_33°C: Endpoint, Fluorescence\n",
      "Measurement_8 = FRET_35°C: Endpoint, Fluorescence\n",
      "Measurement_9 = FRET_37°C: Endpoint, Fluorescence\n",
      "Measurement_10 = FRET_39°C: Endpoint, Fluorescence\n",
      "Measurement_11 = FRET_41°C: Endpoint, Fluorescence\n",
      "Measurement_12 = FRET_43°C: Endpoint, Fluorescence\n",
      "Measurement_13 = FRET_45°C: Endpoint, Fluorescence\n",
      "Measurement_14 = FRET_47°C: Endpoint, Fluorescence\n",
      "Measurement_15 = FRET_49°C: Endpoint, Fluorescence\n",
      "Measurement_16 = FRET_51°C: Endpoint, Fluorescence\n",
      "Measurement_17 = FRET_53°C: Endpoint, Fluorescence\n",
      "Measurement_18 = FRET_55°C: Endpoint, Fluorescence\n",
      "Measurement_19 = FRET_57°C: Endpoint, Fluorescence\n",
      "Measurement_20 = FRET_59°C: Endpoint, Fluorescence\n",
      "Measurement_21 = FRET_61°C: Endpoint, Fluorescence\n",
      "Measurement_22 = FRET_63°C: Endpoint, Fluorescence\n",
      "Measurement_23 = FRET_65°C: Endpoint, Fluorescence\n"
     ]
    }
   ],
   "source": [
    "working_with_id5_data = blab.ID5(\"src/id5_data/2023-05-30_MgCl2_titration_VS.txt\", wavelength_pairs)"
   ],
   "id": "89ba5183bf9a6b16"
  },
  {
   "attachments": {},
   "cell_type": "markdown",
   "id": "466b32f6",
   "metadata": {},
   "source": [
    "Summary: <u> what you need to write into your Jupyter Notebook first </u>:\n",
    "\n",
    "1. `from src import devices as blab`\n",
    "2. the correct wavelength pairs as shown above, saved in a variable\n",
    "3. `blab.ID5(filepath, wavelength pairs variable)` saved in a variable\n",
    "\n"
   ]
  },
  {
   "attachments": {},
   "cell_type": "markdown",
   "metadata": {
    "collapsed": false
   },
   "source": [
    "### <u>Accessing specific measurements</u>\n",
    "\n",
    "The measurements are kept in the attribute \"measurements\" of the variable \"working_with_id5_data\".\n",
    "This is simply a dictionary that contains all measurements."
   ],
   "id": "fc95ca1c55550090"
  },
  {
   "cell_type": "code",
   "execution_count": 4,
   "metadata": {
    "collapsed": false
   },
   "outputs": [
    {
     "name": "stdout",
     "output_type": "stream",
     "text": [
      "<src.devices.ID5MeasureFluorescence object at 0x1101d3910>\n"
     ]
    }
   ],
   "source": [
    "print(working_with_id5_data.measurements[\"Measurement_1\"])"
   ],
   "id": "caefbfb4da3ab5fd"
  },
  {
   "attachments": {},
   "cell_type": "markdown",
   "metadata": {
    "collapsed": false
   },
   "source": [
    "When accessing Measurement 1, the result appears unusual. This is due to the fact that the measurements are saved as objects.\n",
    "Objects are, in a nutshell, complex variables. They have attributes such as the measurement name or the data in a dataframe. Furthermore, the objects include functions that can be used to improve data interaction.\n",
    "You can store the measurement in a new variable and examine the name of the measurement and the data in it. The informations are stored in the \"section_name\" and \"working_df\" attribute.\n",
    "\n",
    "Consider the following:"
   ],
   "id": "8707412be35b494c"
  },
  {
   "cell_type": "code",
   "execution_count": 5,
   "metadata": {
    "collapsed": false
   },
   "outputs": [
    {
     "name": "stdout",
     "output_type": "stream",
     "text": [
      "Name of the Measurement = FRET_21°C\n"
     ]
    },
    {
     "data": {
      "text/plain": "     excitation wavelength (nm)  emission wavelength (nm)  temperature (°C)  \\\n0                           530                       595                21   \n1                           530                       595                21   \n2                           530                       595                21   \n3                           530                       595                21   \n4                           530                       595                21   \n..                          ...                       ...               ...   \n211                         630                       660                21   \n212                         630                       660                21   \n213                         630                       660                21   \n214                         630                       660                21   \n215                         630                       660                21   \n\n    wellnumber      RFU  \n0           A1     4220  \n1           A2   865316  \n2           A3   392148  \n3           A4  1262228  \n4           A5   781926  \n..         ...      ...  \n211         H5     6967  \n212         H6  5286630  \n213         H7     6248  \n214         H8  3133936  \n215         H9     6172  \n\n[216 rows x 5 columns]",
      "text/html": "<div>\n<style scoped>\n    .dataframe tbody tr th:only-of-type {\n        vertical-align: middle;\n    }\n\n    .dataframe tbody tr th {\n        vertical-align: top;\n    }\n\n    .dataframe thead th {\n        text-align: right;\n    }\n</style>\n<table border=\"1\" class=\"dataframe\">\n  <thead>\n    <tr style=\"text-align: right;\">\n      <th></th>\n      <th>excitation wavelength (nm)</th>\n      <th>emission wavelength (nm)</th>\n      <th>temperature (°C)</th>\n      <th>wellnumber</th>\n      <th>RFU</th>\n    </tr>\n  </thead>\n  <tbody>\n    <tr>\n      <th>0</th>\n      <td>530</td>\n      <td>595</td>\n      <td>21</td>\n      <td>A1</td>\n      <td>4220</td>\n    </tr>\n    <tr>\n      <th>1</th>\n      <td>530</td>\n      <td>595</td>\n      <td>21</td>\n      <td>A2</td>\n      <td>865316</td>\n    </tr>\n    <tr>\n      <th>2</th>\n      <td>530</td>\n      <td>595</td>\n      <td>21</td>\n      <td>A3</td>\n      <td>392148</td>\n    </tr>\n    <tr>\n      <th>3</th>\n      <td>530</td>\n      <td>595</td>\n      <td>21</td>\n      <td>A4</td>\n      <td>1262228</td>\n    </tr>\n    <tr>\n      <th>4</th>\n      <td>530</td>\n      <td>595</td>\n      <td>21</td>\n      <td>A5</td>\n      <td>781926</td>\n    </tr>\n    <tr>\n      <th>...</th>\n      <td>...</td>\n      <td>...</td>\n      <td>...</td>\n      <td>...</td>\n      <td>...</td>\n    </tr>\n    <tr>\n      <th>211</th>\n      <td>630</td>\n      <td>660</td>\n      <td>21</td>\n      <td>H5</td>\n      <td>6967</td>\n    </tr>\n    <tr>\n      <th>212</th>\n      <td>630</td>\n      <td>660</td>\n      <td>21</td>\n      <td>H6</td>\n      <td>5286630</td>\n    </tr>\n    <tr>\n      <th>213</th>\n      <td>630</td>\n      <td>660</td>\n      <td>21</td>\n      <td>H7</td>\n      <td>6248</td>\n    </tr>\n    <tr>\n      <th>214</th>\n      <td>630</td>\n      <td>660</td>\n      <td>21</td>\n      <td>H8</td>\n      <td>3133936</td>\n    </tr>\n    <tr>\n      <th>215</th>\n      <td>630</td>\n      <td>660</td>\n      <td>21</td>\n      <td>H9</td>\n      <td>6172</td>\n    </tr>\n  </tbody>\n</table>\n<p>216 rows × 5 columns</p>\n</div>"
     },
     "execution_count": 5,
     "metadata": {},
     "output_type": "execute_result"
    }
   ],
   "source": [
    "measure_1 = working_with_id5_data.measurements[\"Measurement_1\"]\n",
    "\n",
    "print(f\"Name of the Measurement = {measure_1.section_name}\")\n",
    "\n",
    "df_of_measurement_1 = measure_1.working_df\n",
    "df_of_measurement_1\n",
    "\n",
    "# alternative: \n",
    "# df_of_measurement_1 = working_with_id5_data.measurements[\"Measurement_1\"].working_df"
   ],
   "id": "b567959640a0172d"
  },
  {
   "attachments": {},
   "cell_type": "markdown",
   "metadata": {
    "collapsed": false
   },
   "source": [
    "### <u>Accessing specific wells</u>\n",
    "\n",
    "With the function `get_well()`, you can choose the well, you would like to work on and save it as a dataframe. It is a function of the objects, so that you only need to specify which wellnumber, you would like to access. \n",
    "\n",
    "Because this is a standard pandas DataFrame, the function `get_well()` does not exist in the dataframe \"df_of_measurement_1\". To access `get_well()`, you have to use the object named \"measure_1\"."
   ],
   "id": "c91a158d46ce58f4"
  },
  {
   "cell_type": "code",
   "execution_count": 6,
   "metadata": {
    "collapsed": false
   },
   "outputs": [
    {
     "data": {
      "text/plain": "     excitation wavelength (nm)  emission wavelength (nm)  temperature (°C)  \\\n2                           530                       595                21   \n74                          530                       660                21   \n146                         630                       660                21   \n\n    wellnumber      RFU  \n2           A3   392148  \n74          A3   881633  \n146         A3  2735696  ",
      "text/html": "<div>\n<style scoped>\n    .dataframe tbody tr th:only-of-type {\n        vertical-align: middle;\n    }\n\n    .dataframe tbody tr th {\n        vertical-align: top;\n    }\n\n    .dataframe thead th {\n        text-align: right;\n    }\n</style>\n<table border=\"1\" class=\"dataframe\">\n  <thead>\n    <tr style=\"text-align: right;\">\n      <th></th>\n      <th>excitation wavelength (nm)</th>\n      <th>emission wavelength (nm)</th>\n      <th>temperature (°C)</th>\n      <th>wellnumber</th>\n      <th>RFU</th>\n    </tr>\n  </thead>\n  <tbody>\n    <tr>\n      <th>2</th>\n      <td>530</td>\n      <td>595</td>\n      <td>21</td>\n      <td>A3</td>\n      <td>392148</td>\n    </tr>\n    <tr>\n      <th>74</th>\n      <td>530</td>\n      <td>660</td>\n      <td>21</td>\n      <td>A3</td>\n      <td>881633</td>\n    </tr>\n    <tr>\n      <th>146</th>\n      <td>630</td>\n      <td>660</td>\n      <td>21</td>\n      <td>A3</td>\n      <td>2735696</td>\n    </tr>\n  </tbody>\n</table>\n</div>"
     },
     "execution_count": 6,
     "metadata": {},
     "output_type": "execute_result"
    }
   ],
   "source": [
    "df_A3 = measure_1.get_well(\"A3\")\n",
    "df_A3"
   ],
   "id": "e34316fdb9294957"
  },
  {
   "attachments": {},
   "cell_type": "markdown",
   "id": "604afeaf",
   "metadata": {},
   "source": [
    "If the wellnumber does not exist or you made a typo, the function will print an error message:"
   ]
  },
  {
   "cell_type": "code",
   "execution_count": 7,
   "id": "d83925e5",
   "metadata": {},
   "outputs": [
    {
     "name": "stdout",
     "output_type": "stream",
     "text": [
      "ERROR: Wellnumber does not exist.\n",
      "Accessible wellnumbers: ['A1' 'A2' 'A3' 'A4' 'A5' 'A6' 'A7' 'A8' 'A9' 'B1' 'B2' 'B3' 'B4' 'B5'\n",
      " 'B6' 'B7' 'B8' 'B9' 'C1' 'C2' 'C3' 'C4' 'C5' 'C6' 'C7' 'C8' 'C9' 'D1'\n",
      " 'D2' 'D3' 'D4' 'D5' 'D6' 'D7' 'D8' 'D9' 'E1' 'E2' 'E3' 'E4' 'E5' 'E6'\n",
      " 'E7' 'E8' 'E9' 'F1' 'F2' 'F3' 'F4' 'F5' 'F6' 'F7' 'F8' 'F9' 'G1' 'G2'\n",
      " 'G3' 'G4' 'G5' 'G6' 'G7' 'G8' 'G9' 'H1' 'H2' 'H3' 'H4' 'H5' 'H6' 'H7'\n",
      " 'H8' 'H9']\n"
     ]
    }
   ],
   "source": [
    "df_nonexistant = measure_1.get_well(\"A13\")"
   ]
  },
  {
   "attachments": {},
   "cell_type": "markdown",
   "id": "23f41b8e",
   "metadata": {},
   "source": [
    "### <u> The way to calculate FRET </u>\n",
    "\n",
    "In the next code blocks is a \"pipeline\" described for calculations leading up to and including FRET-calculations. At first, the wavelength pairs are needed and the path to the file."
   ]
  },
  {
   "cell_type": "code",
   "execution_count": 8,
   "id": "3cda2471",
   "metadata": {},
   "outputs": [
    {
     "name": "stdout",
     "output_type": "stream",
     "text": [
      "Measurement_1 = FRET_21°C: Endpoint, Fluorescence\n",
      "Measurement_2 = FRET_23°C: Endpoint, Fluorescence\n",
      "Measurement_3 = FRET_25°C: Endpoint, Fluorescence\n",
      "Measurement_4 = FRET_27°C: Endpoint, Fluorescence\n",
      "Measurement_5 = FRET_29°C: Endpoint, Fluorescence\n",
      "Measurement_6 = FRET_31°C: Endpoint, Fluorescence\n",
      "Measurement_7 = FRET_33°C: Endpoint, Fluorescence\n",
      "Measurement_8 = FRET_35°C: Endpoint, Fluorescence\n",
      "Measurement_9 = FRET_37°C: Endpoint, Fluorescence\n",
      "Measurement_10 = FRET_39°C: Endpoint, Fluorescence\n",
      "Measurement_11 = FRET_41°C: Endpoint, Fluorescence\n",
      "Measurement_12 = FRET_43°C: Endpoint, Fluorescence\n",
      "Measurement_13 = FRET_45°C: Endpoint, Fluorescence\n",
      "Measurement_14 = FRET_47°C: Endpoint, Fluorescence\n",
      "Measurement_15 = FRET_49°C: Endpoint, Fluorescence\n",
      "Measurement_16 = FRET_51°C: Endpoint, Fluorescence\n",
      "Measurement_17 = FRET_53°C: Endpoint, Fluorescence\n",
      "Measurement_18 = FRET_55°C: Endpoint, Fluorescence\n",
      "Measurement_19 = FRET_57°C: Endpoint, Fluorescence\n",
      "Measurement_20 = FRET_59°C: Endpoint, Fluorescence\n",
      "Measurement_21 = FRET_61°C: Endpoint, Fluorescence\n",
      "Measurement_22 = FRET_63°C: Endpoint, Fluorescence\n",
      "Measurement_23 = FRET_65°C: Endpoint, Fluorescence\n"
     ]
    }
   ],
   "source": [
    "wavelength_pairs = {\n",
    "        \"Dem_Dex\": [530, 595],\n",
    "        \"Aem_Dex\": [530, 660],\n",
    "        \"Aem_Aex\": [630, 660]\n",
    "}\n",
    "\n",
    "my_id5_data = blab.ID5(\"src/id5_data/2023-05-30_MgCl2_titration_VS.txt\", wavelength_pairs)"
   ]
  },
  {
   "attachments": {},
   "cell_type": "markdown",
   "metadata": {
    "collapsed": false
   },
   "source": [
    "### <u>Calculating background corrected values</u>\n",
    "\n",
    "The function for removing blanks must know two things in order to complete the blank correction :\n",
    "\n",
    "1. Which of the measurements contain blanks?\n",
    "2. Which wells were these blanks measured in?\n",
    "\n",
    "It will then go through all of the measurements, collecting values from the chosen wells and computing a mean blank.\n",
    "The values in the \"working_df\" of the specified measurements are then background corrected.\n",
    "\n",
    "To achieve this, the lines of the code below are absolutely necessary. First, an empty list is created, the names of the measurements extracted and then looped over those, to only get the necessary ones (in this case, those measurements which have the word \"FRET\" in the section name)."
   ],
   "id": "66bb0ee32fd0cd7"
  },
  {
   "cell_type": "code",
   "execution_count": 9,
   "metadata": {
    "collapsed": false
   },
   "outputs": [
    {
     "name": "stdout",
     "output_type": "stream",
     "text": [
      "['Measurement_1', 'Measurement_2', 'Measurement_3', 'Measurement_4', 'Measurement_5', 'Measurement_6', 'Measurement_7', 'Measurement_8', 'Measurement_9', 'Measurement_10', 'Measurement_11', 'Measurement_12', 'Measurement_13', 'Measurement_14', 'Measurement_15', 'Measurement_16', 'Measurement_17', 'Measurement_18', 'Measurement_19', 'Measurement_20', 'Measurement_21', 'Measurement_22', 'Measurement_23']\n"
     ]
    }
   ],
   "source": [
    "# creating a list of measurement names\n",
    "FRET_measurements = []\n",
    "measure_names = my_id5_data.measurements.keys()\n",
    "for name in measure_names:\n",
    "    measurement = my_id5_data.measurements[name]\n",
    "    name_1 = measurement.section_name\n",
    "    if \"FRET\" in name_1:\n",
    "        FRET_measurements.append(name)\n",
    "print(FRET_measurements)"
   ],
   "id": "5644df4ef5d47806"
  },
  {
   "attachments": {},
   "cell_type": "markdown",
   "id": "b63cc7b4",
   "metadata": {},
   "source": [
    "Next, you need to define, which wellnumbers contain the blanks. This is best given as a list.\n",
    "\n",
    "You can then use the function `calculate_blank()` in which you need to specify the specific measurements and blank wellnumbers. As you already have lists of both, you put them as parameter into the function, as seen below. \n",
    "\n",
    "Summary: \\\n",
    "This function requires two parameters (in this order):\n",
    "1. the (FRET) measurement list `FRET_measurements`\n",
    "2. the wellnumber list of the blank wells `blank_wells`\n"
   ]
  },
  {
   "cell_type": "code",
   "execution_count": 10,
   "id": "be66a9c3",
   "metadata": {},
   "outputs": [
    {
     "name": "stdout",
     "output_type": "stream",
     "text": [
      "Mean value of all blank wellnumbers: 3512.998188405797\n"
     ]
    }
   ],
   "source": [
    "# creating a list of wells with blank samples\n",
    "blank_wells = [\"A1\", \"B1\", \"C1\", \"D1\", \"E1\", \"F1\", \"G1\", \"H1\"]\n",
    "\n",
    "# calculating the mean blank and correct the values\n",
    "mean_blank = my_id5_data.calculate_blank(FRET_measurements, blank_wells)\n",
    "print(f\"Mean value of all blank wellnumbers: {mean_blank}\")"
   ]
  },
  {
   "attachments": {},
   "cell_type": "markdown",
   "metadata": {
    "collapsed": false
   },
   "source": [
    "In each defined measurement, the working_df is also modified.  A new column called `bg_corrected_RFU` has been added."
   ],
   "id": "2b926c4452ff2e19"
  },
  {
   "cell_type": "code",
   "execution_count": 11,
   "metadata": {
    "collapsed": false
   },
   "outputs": [
    {
     "data": {
      "text/plain": "     excitation wavelength (nm)  emission wavelength (nm)  temperature (°C)  \\\n0                           530                       595                31   \n1                           530                       595                31   \n2                           530                       595                31   \n3                           530                       595                31   \n4                           530                       595                31   \n..                          ...                       ...               ...   \n211                         630                       660                31   \n212                         630                       660                31   \n213                         630                       660                31   \n214                         630                       660                31   \n215                         630                       660                31   \n\n    wellnumber      RFU  bg corrected RFU  \n0           A1     4260      7.470018e+02  \n1           A2   850387      8.468740e+05  \n2           A3   377165      3.736520e+05  \n3           A4  1191292      1.187779e+06  \n4           A5   681511      6.779980e+05  \n..         ...      ...               ...  \n211         H5     6705      3.192002e+03  \n212         H6  4760308      4.756795e+06  \n213         H7     4560      1.047002e+03  \n214         H8  2923471      2.919958e+06  \n215         H9     4764      1.251002e+03  \n\n[216 rows x 6 columns]",
      "text/html": "<div>\n<style scoped>\n    .dataframe tbody tr th:only-of-type {\n        vertical-align: middle;\n    }\n\n    .dataframe tbody tr th {\n        vertical-align: top;\n    }\n\n    .dataframe thead th {\n        text-align: right;\n    }\n</style>\n<table border=\"1\" class=\"dataframe\">\n  <thead>\n    <tr style=\"text-align: right;\">\n      <th></th>\n      <th>excitation wavelength (nm)</th>\n      <th>emission wavelength (nm)</th>\n      <th>temperature (°C)</th>\n      <th>wellnumber</th>\n      <th>RFU</th>\n      <th>bg corrected RFU</th>\n    </tr>\n  </thead>\n  <tbody>\n    <tr>\n      <th>0</th>\n      <td>530</td>\n      <td>595</td>\n      <td>31</td>\n      <td>A1</td>\n      <td>4260</td>\n      <td>7.470018e+02</td>\n    </tr>\n    <tr>\n      <th>1</th>\n      <td>530</td>\n      <td>595</td>\n      <td>31</td>\n      <td>A2</td>\n      <td>850387</td>\n      <td>8.468740e+05</td>\n    </tr>\n    <tr>\n      <th>2</th>\n      <td>530</td>\n      <td>595</td>\n      <td>31</td>\n      <td>A3</td>\n      <td>377165</td>\n      <td>3.736520e+05</td>\n    </tr>\n    <tr>\n      <th>3</th>\n      <td>530</td>\n      <td>595</td>\n      <td>31</td>\n      <td>A4</td>\n      <td>1191292</td>\n      <td>1.187779e+06</td>\n    </tr>\n    <tr>\n      <th>4</th>\n      <td>530</td>\n      <td>595</td>\n      <td>31</td>\n      <td>A5</td>\n      <td>681511</td>\n      <td>6.779980e+05</td>\n    </tr>\n    <tr>\n      <th>...</th>\n      <td>...</td>\n      <td>...</td>\n      <td>...</td>\n      <td>...</td>\n      <td>...</td>\n      <td>...</td>\n    </tr>\n    <tr>\n      <th>211</th>\n      <td>630</td>\n      <td>660</td>\n      <td>31</td>\n      <td>H5</td>\n      <td>6705</td>\n      <td>3.192002e+03</td>\n    </tr>\n    <tr>\n      <th>212</th>\n      <td>630</td>\n      <td>660</td>\n      <td>31</td>\n      <td>H6</td>\n      <td>4760308</td>\n      <td>4.756795e+06</td>\n    </tr>\n    <tr>\n      <th>213</th>\n      <td>630</td>\n      <td>660</td>\n      <td>31</td>\n      <td>H7</td>\n      <td>4560</td>\n      <td>1.047002e+03</td>\n    </tr>\n    <tr>\n      <th>214</th>\n      <td>630</td>\n      <td>660</td>\n      <td>31</td>\n      <td>H8</td>\n      <td>2923471</td>\n      <td>2.919958e+06</td>\n    </tr>\n    <tr>\n      <th>215</th>\n      <td>630</td>\n      <td>660</td>\n      <td>31</td>\n      <td>H9</td>\n      <td>4764</td>\n      <td>1.251002e+03</td>\n    </tr>\n  </tbody>\n</table>\n<p>216 rows × 6 columns</p>\n</div>"
     },
     "execution_count": 11,
     "metadata": {},
     "output_type": "execute_result"
    }
   ],
   "source": [
    "my_id5_data.measurements[\"Measurement_1\"].working_df"
   ],
   "id": "ce858ef6402a5f2b"
  },
  {
   "attachments": {},
   "cell_type": "markdown",
   "metadata": {
    "collapsed": false
   },
   "source": [
    "### <u> Insert new data into a new column </u>\n",
    "\n",
    "Each measurement has its own function here as well. The `add_new_column()` function can be used with a dictionary to assign a new value to an already existing value in the dataFrame. For example, in all rows where the column \"wellnumber\" contains the value \"A1\" assign the value 10 to a new column \"concentration\" :"
   ],
   "id": "42f842e515be76eb"
  },
  {
   "cell_type": "code",
   "execution_count": 12,
   "metadata": {
    "collapsed": false
   },
   "outputs": [
    {
     "data": {
      "text/plain": "     excitation wavelength (nm)  emission wavelength (nm)  temperature (°C)  \\\n0                           530                       595                21   \n1                           530                       595                21   \n2                           530                       595                21   \n3                           530                       595                21   \n4                           530                       595                21   \n..                          ...                       ...               ...   \n211                         630                       660                21   \n212                         630                       660                21   \n213                         630                       660                21   \n214                         630                       660                21   \n215                         630                       660                21   \n\n    wellnumber      RFU  bg corrected RFU  concentration (mM)  \n0           A1     4220      7.070018e+02                 NaN  \n1           A2   865316      8.618030e+05                 0.0  \n2           A3   392148      3.886350e+05                50.0  \n3           A4  1262228      1.258715e+06                 0.0  \n4           A5   781926      7.784130e+05                50.0  \n..         ...      ...               ...                 ...  \n211         H5     6967      3.454002e+03                 NaN  \n212         H6  5286630      5.283117e+06                25.0  \n213         H7     6248      2.735002e+03                 NaN  \n214         H8  3133936      3.130423e+06                25.0  \n215         H9     6172      2.659002e+03                 NaN  \n\n[216 rows x 7 columns]",
      "text/html": "<div>\n<style scoped>\n    .dataframe tbody tr th:only-of-type {\n        vertical-align: middle;\n    }\n\n    .dataframe tbody tr th {\n        vertical-align: top;\n    }\n\n    .dataframe thead th {\n        text-align: right;\n    }\n</style>\n<table border=\"1\" class=\"dataframe\">\n  <thead>\n    <tr style=\"text-align: right;\">\n      <th></th>\n      <th>excitation wavelength (nm)</th>\n      <th>emission wavelength (nm)</th>\n      <th>temperature (°C)</th>\n      <th>wellnumber</th>\n      <th>RFU</th>\n      <th>bg corrected RFU</th>\n      <th>concentration (mM)</th>\n    </tr>\n  </thead>\n  <tbody>\n    <tr>\n      <th>0</th>\n      <td>530</td>\n      <td>595</td>\n      <td>21</td>\n      <td>A1</td>\n      <td>4220</td>\n      <td>7.070018e+02</td>\n      <td>NaN</td>\n    </tr>\n    <tr>\n      <th>1</th>\n      <td>530</td>\n      <td>595</td>\n      <td>21</td>\n      <td>A2</td>\n      <td>865316</td>\n      <td>8.618030e+05</td>\n      <td>0.0</td>\n    </tr>\n    <tr>\n      <th>2</th>\n      <td>530</td>\n      <td>595</td>\n      <td>21</td>\n      <td>A3</td>\n      <td>392148</td>\n      <td>3.886350e+05</td>\n      <td>50.0</td>\n    </tr>\n    <tr>\n      <th>3</th>\n      <td>530</td>\n      <td>595</td>\n      <td>21</td>\n      <td>A4</td>\n      <td>1262228</td>\n      <td>1.258715e+06</td>\n      <td>0.0</td>\n    </tr>\n    <tr>\n      <th>4</th>\n      <td>530</td>\n      <td>595</td>\n      <td>21</td>\n      <td>A5</td>\n      <td>781926</td>\n      <td>7.784130e+05</td>\n      <td>50.0</td>\n    </tr>\n    <tr>\n      <th>...</th>\n      <td>...</td>\n      <td>...</td>\n      <td>...</td>\n      <td>...</td>\n      <td>...</td>\n      <td>...</td>\n      <td>...</td>\n    </tr>\n    <tr>\n      <th>211</th>\n      <td>630</td>\n      <td>660</td>\n      <td>21</td>\n      <td>H5</td>\n      <td>6967</td>\n      <td>3.454002e+03</td>\n      <td>NaN</td>\n    </tr>\n    <tr>\n      <th>212</th>\n      <td>630</td>\n      <td>660</td>\n      <td>21</td>\n      <td>H6</td>\n      <td>5286630</td>\n      <td>5.283117e+06</td>\n      <td>25.0</td>\n    </tr>\n    <tr>\n      <th>213</th>\n      <td>630</td>\n      <td>660</td>\n      <td>21</td>\n      <td>H7</td>\n      <td>6248</td>\n      <td>2.735002e+03</td>\n      <td>NaN</td>\n    </tr>\n    <tr>\n      <th>214</th>\n      <td>630</td>\n      <td>660</td>\n      <td>21</td>\n      <td>H8</td>\n      <td>3133936</td>\n      <td>3.130423e+06</td>\n      <td>25.0</td>\n    </tr>\n    <tr>\n      <th>215</th>\n      <td>630</td>\n      <td>660</td>\n      <td>21</td>\n      <td>H9</td>\n      <td>6172</td>\n      <td>2.659002e+03</td>\n      <td>NaN</td>\n    </tr>\n  </tbody>\n</table>\n<p>216 rows × 7 columns</p>\n</div>"
     },
     "execution_count": 12,
     "metadata": {},
     "output_type": "execute_result"
    }
   ],
   "source": [
    "# Information about concentration of ions in nM\n",
    "concentrations = {\"A2\":0,\"B2\":1,\"C2\":2.5,\"D2\":5, \"E2\":7.5,\"F2\":10, \"G2\":12.5,\"H2\":25,\n",
    "            \"A3\":50,\"B3\":75,\"C3\":100,\"D3\":500,\n",
    "            \"A4\":0,\"B4\":1,\"C4\":2.5,\"D4\":5,\"E4\":7.5,\"F4\":10, \"G4\":12.5, \"H4\":25,\n",
    "            \"A5\":50,\"B5\":75,\"C5\":100,\"D5\":500,\n",
    "            \"A6\":0,\"B6\":1, \"C6\":2.5,\"D6\":5,\"E6\":7.5,\"F6\":10,\"G6\":12.5,\"H6\":25,\n",
    "            \"A7\":50,\"B7\":75,\"C7\":100, \"D7\":500,\n",
    "            \"A8\":0,\"B8\":1,\"C8\":2.5, \"D8\":5, \"E8\":7.5,\"F8\":10,\"G8\":12.5,\"H8\":25,\n",
    "            \"A9\":50,\"B9\":75,\"C9\":100,\"D9\":500\n",
    "}\n",
    "\n",
    "# Do it for 1 Measurement:\n",
    "my_id5_data.measurements[\"Measurement_1\"].add_new_column(\"wellnumber\", concentrations, \"concentration (mM)\")\n",
    "my_id5_data.measurements[\"Measurement_1\"].working_df"
   ],
   "id": "70bb4ef3e42067b5"
  },
  {
   "attachments": {},
   "cell_type": "markdown",
   "id": "57e25742",
   "metadata": {},
   "source": [
    "You can also do this step for all of your measurements. In the following code cell, thi sis done for all measurements containing the word \"FRET\". "
   ]
  },
  {
   "cell_type": "code",
   "execution_count": 13,
   "metadata": {
    "collapsed": false
   },
   "outputs": [
    {
     "data": {
      "text/plain": "     excitation wavelength (nm)  emission wavelength (nm)  temperature (°C)  \\\n0                           530                       595                33   \n1                           530                       595                33   \n2                           530                       595                33   \n3                           530                       595                33   \n4                           530                       595                33   \n..                          ...                       ...               ...   \n211                         630                       660                33   \n212                         630                       660                33   \n213                         630                       660                33   \n214                         630                       660                33   \n215                         630                       660                33   \n\n    wellnumber      RFU  bg corrected RFU  concentration (mM)  \n0           A1     4679      1.166002e+03                 NaN  \n1           A2   826432      8.229190e+05                 0.0  \n2           A3   375519      3.720060e+05                50.0  \n3           A4  1152152      1.148639e+06                 0.0  \n4           A5   661476      6.579630e+05                50.0  \n..         ...      ...               ...                 ...  \n211         H5     4751      1.238002e+03                 NaN  \n212         H6  4778717      4.775204e+06                25.0  \n213         H7     5375      1.862002e+03                 NaN  \n214         H8  2935441      2.931928e+06                25.0  \n215         H9     7013      3.500002e+03                 NaN  \n\n[216 rows x 7 columns]",
      "text/html": "<div>\n<style scoped>\n    .dataframe tbody tr th:only-of-type {\n        vertical-align: middle;\n    }\n\n    .dataframe tbody tr th {\n        vertical-align: top;\n    }\n\n    .dataframe thead th {\n        text-align: right;\n    }\n</style>\n<table border=\"1\" class=\"dataframe\">\n  <thead>\n    <tr style=\"text-align: right;\">\n      <th></th>\n      <th>excitation wavelength (nm)</th>\n      <th>emission wavelength (nm)</th>\n      <th>temperature (°C)</th>\n      <th>wellnumber</th>\n      <th>RFU</th>\n      <th>bg corrected RFU</th>\n      <th>concentration (mM)</th>\n    </tr>\n  </thead>\n  <tbody>\n    <tr>\n      <th>0</th>\n      <td>530</td>\n      <td>595</td>\n      <td>33</td>\n      <td>A1</td>\n      <td>4679</td>\n      <td>1.166002e+03</td>\n      <td>NaN</td>\n    </tr>\n    <tr>\n      <th>1</th>\n      <td>530</td>\n      <td>595</td>\n      <td>33</td>\n      <td>A2</td>\n      <td>826432</td>\n      <td>8.229190e+05</td>\n      <td>0.0</td>\n    </tr>\n    <tr>\n      <th>2</th>\n      <td>530</td>\n      <td>595</td>\n      <td>33</td>\n      <td>A3</td>\n      <td>375519</td>\n      <td>3.720060e+05</td>\n      <td>50.0</td>\n    </tr>\n    <tr>\n      <th>3</th>\n      <td>530</td>\n      <td>595</td>\n      <td>33</td>\n      <td>A4</td>\n      <td>1152152</td>\n      <td>1.148639e+06</td>\n      <td>0.0</td>\n    </tr>\n    <tr>\n      <th>4</th>\n      <td>530</td>\n      <td>595</td>\n      <td>33</td>\n      <td>A5</td>\n      <td>661476</td>\n      <td>6.579630e+05</td>\n      <td>50.0</td>\n    </tr>\n    <tr>\n      <th>...</th>\n      <td>...</td>\n      <td>...</td>\n      <td>...</td>\n      <td>...</td>\n      <td>...</td>\n      <td>...</td>\n      <td>...</td>\n    </tr>\n    <tr>\n      <th>211</th>\n      <td>630</td>\n      <td>660</td>\n      <td>33</td>\n      <td>H5</td>\n      <td>4751</td>\n      <td>1.238002e+03</td>\n      <td>NaN</td>\n    </tr>\n    <tr>\n      <th>212</th>\n      <td>630</td>\n      <td>660</td>\n      <td>33</td>\n      <td>H6</td>\n      <td>4778717</td>\n      <td>4.775204e+06</td>\n      <td>25.0</td>\n    </tr>\n    <tr>\n      <th>213</th>\n      <td>630</td>\n      <td>660</td>\n      <td>33</td>\n      <td>H7</td>\n      <td>5375</td>\n      <td>1.862002e+03</td>\n      <td>NaN</td>\n    </tr>\n    <tr>\n      <th>214</th>\n      <td>630</td>\n      <td>660</td>\n      <td>33</td>\n      <td>H8</td>\n      <td>2935441</td>\n      <td>2.931928e+06</td>\n      <td>25.0</td>\n    </tr>\n    <tr>\n      <th>215</th>\n      <td>630</td>\n      <td>660</td>\n      <td>33</td>\n      <td>H9</td>\n      <td>7013</td>\n      <td>3.500002e+03</td>\n      <td>NaN</td>\n    </tr>\n  </tbody>\n</table>\n<p>216 rows × 7 columns</p>\n</div>"
     },
     "execution_count": 13,
     "metadata": {},
     "output_type": "execute_result"
    }
   ],
   "source": [
    "# Do it for all FRET Measurements\n",
    "for measurement_name, measurement in my_id5_data.measurements.items():\n",
    "    if \"FRET\" in measurement.section_name:\n",
    "        measurement.add_new_column(\"wellnumber\", concentrations, \"concentration (mM)\")\n",
    "# Example print\n",
    "my_id5_data.measurements[\"Measurement_7\"].working_df"
   ],
   "id": "5a91fb1d537ba8e5"
  },
  {
   "attachments": {},
   "cell_type": "markdown",
   "id": "7d6989b3",
   "metadata": {},
   "source": [
    "### <u> Calculating FRET </u>\n",
    "\n",
    "Now, the dataframe \"working_df\" needs to be restructured, so that the intensities of acceptor excitation or emission and of donor excitation or emission are better to grasp for the user. The function `restructure_working_df()` construct a new dataframe called `FRET_df`. Please note, that this dataframe *does not* contain the calculated FRET values *yet*. \n",
    "\n",
    "The function `restructure_working_df()` needs:\n",
    "- list of all FRET measurements, e.g. `FRET_measurements`\n",
    "- the variable of the wavelength pairs e.g. `wavelength_pairs`"
   ]
  },
  {
   "cell_type": "code",
   "execution_count": 15,
   "id": "ee305d17",
   "metadata": {},
   "outputs": [
    {
     "data": {
      "text/plain": "    temperature (°C) wellnumber  concentration (mM)     I^Dem_Dex  \\\n0                 21         A1                 NaN  7.070018e+02   \n1                 21         A2                 0.0  8.618030e+05   \n2                 21         A3                50.0  3.886350e+05   \n3                 21         A4                 0.0  1.258715e+06   \n4                 21         A5                50.0  7.784130e+05   \n..               ...        ...                 ...           ...   \n67                21         H5                 NaN  2.620018e+02   \n68                21         H6                25.0  5.314850e+05   \n69                21         H7                 NaN  1.141002e+03   \n70                21         H8                25.0  5.893190e+05   \n71                21         H9                 NaN  9.250018e+02   \n\n       I^Aem_Dex     I^Aem_Aex  \n0  -2.290998e+03  3.452002e+03  \n1   8.117650e+05  4.384354e+06  \n2   8.781200e+05  2.732183e+06  \n3   1.136348e+06  6.049143e+06  \n4   1.223314e+06  4.022249e+06  \n..           ...           ...  \n67 -1.664998e+03  3.454002e+03  \n68  1.671132e+06  5.283117e+06  \n69 -1.844998e+03  2.735002e+03  \n70  1.398826e+06  3.130423e+06  \n71 -2.055998e+03  2.659002e+03  \n\n[72 rows x 6 columns]",
      "text/html": "<div>\n<style scoped>\n    .dataframe tbody tr th:only-of-type {\n        vertical-align: middle;\n    }\n\n    .dataframe tbody tr th {\n        vertical-align: top;\n    }\n\n    .dataframe thead th {\n        text-align: right;\n    }\n</style>\n<table border=\"1\" class=\"dataframe\">\n  <thead>\n    <tr style=\"text-align: right;\">\n      <th></th>\n      <th>temperature (°C)</th>\n      <th>wellnumber</th>\n      <th>concentration (mM)</th>\n      <th>I^Dem_Dex</th>\n      <th>I^Aem_Dex</th>\n      <th>I^Aem_Aex</th>\n    </tr>\n  </thead>\n  <tbody>\n    <tr>\n      <th>0</th>\n      <td>21</td>\n      <td>A1</td>\n      <td>NaN</td>\n      <td>7.070018e+02</td>\n      <td>-2.290998e+03</td>\n      <td>3.452002e+03</td>\n    </tr>\n    <tr>\n      <th>1</th>\n      <td>21</td>\n      <td>A2</td>\n      <td>0.0</td>\n      <td>8.618030e+05</td>\n      <td>8.117650e+05</td>\n      <td>4.384354e+06</td>\n    </tr>\n    <tr>\n      <th>2</th>\n      <td>21</td>\n      <td>A3</td>\n      <td>50.0</td>\n      <td>3.886350e+05</td>\n      <td>8.781200e+05</td>\n      <td>2.732183e+06</td>\n    </tr>\n    <tr>\n      <th>3</th>\n      <td>21</td>\n      <td>A4</td>\n      <td>0.0</td>\n      <td>1.258715e+06</td>\n      <td>1.136348e+06</td>\n      <td>6.049143e+06</td>\n    </tr>\n    <tr>\n      <th>4</th>\n      <td>21</td>\n      <td>A5</td>\n      <td>50.0</td>\n      <td>7.784130e+05</td>\n      <td>1.223314e+06</td>\n      <td>4.022249e+06</td>\n    </tr>\n    <tr>\n      <th>...</th>\n      <td>...</td>\n      <td>...</td>\n      <td>...</td>\n      <td>...</td>\n      <td>...</td>\n      <td>...</td>\n    </tr>\n    <tr>\n      <th>67</th>\n      <td>21</td>\n      <td>H5</td>\n      <td>NaN</td>\n      <td>2.620018e+02</td>\n      <td>-1.664998e+03</td>\n      <td>3.454002e+03</td>\n    </tr>\n    <tr>\n      <th>68</th>\n      <td>21</td>\n      <td>H6</td>\n      <td>25.0</td>\n      <td>5.314850e+05</td>\n      <td>1.671132e+06</td>\n      <td>5.283117e+06</td>\n    </tr>\n    <tr>\n      <th>69</th>\n      <td>21</td>\n      <td>H7</td>\n      <td>NaN</td>\n      <td>1.141002e+03</td>\n      <td>-1.844998e+03</td>\n      <td>2.735002e+03</td>\n    </tr>\n    <tr>\n      <th>70</th>\n      <td>21</td>\n      <td>H8</td>\n      <td>25.0</td>\n      <td>5.893190e+05</td>\n      <td>1.398826e+06</td>\n      <td>3.130423e+06</td>\n    </tr>\n    <tr>\n      <th>71</th>\n      <td>21</td>\n      <td>H9</td>\n      <td>NaN</td>\n      <td>9.250018e+02</td>\n      <td>-2.055998e+03</td>\n      <td>2.659002e+03</td>\n    </tr>\n  </tbody>\n</table>\n<p>72 rows × 6 columns</p>\n</div>"
     },
     "execution_count": 15,
     "metadata": {},
     "output_type": "execute_result"
    }
   ],
   "source": [
    "my_id5_data_restructured = my_id5_data.restructure_working_df(FRET_measurements, wavelength_pairs)\n",
    "m1 = my_id5_data.measurements[\"Measurement_1\"].FRET_df\n",
    "m1"
   ]
  },
  {
   "attachments": {},
   "cell_type": "markdown",
   "id": "792e6830",
   "metadata": {},
   "source": [
    "To successfully calculate the FRET values, one needs to calculate the bleedthrough and direct excitation corrections. This is done with the functions `calculate_bt_correction()` and `calculate_de_correction()`. They both need: \n",
    "- list of all FRET measurements, e.g. `FRET_measurements`\n",
    "- bleedthrough or direct excitation variable, that is defined beforehand, e.g. `bt_var = 0.1314`"
   ]
  },
  {
   "cell_type": "code",
   "execution_count": 16,
   "id": "d9b0e8ba",
   "metadata": {},
   "outputs": [
    {
     "data": {
      "text/plain": "   temperature (°C) wellnumber  concentration (mM)     I^Dem_Dex  \\\n1                21         A2                 0.0  8.618030e+05   \n2                21         A3                50.0  3.886350e+05   \n3                21         A4                 0.0  1.258715e+06   \n4                21         A5                50.0  7.784130e+05   \n5                21         A6                 0.0  1.712445e+06   \n\n      I^Aem_Dex    I'^Aem_Dex     I^Aem_Aex  \n1  8.117650e+05  6.985241e+05  4.384354e+06  \n2  8.781200e+05  8.270534e+05  2.732183e+06  \n3  1.136348e+06  9.709529e+05  6.049143e+06  \n4  1.223314e+06  1.121031e+06  4.022249e+06  \n5  9.591280e+05  7.341127e+05  7.756627e+06  ",
      "text/html": "<div>\n<style scoped>\n    .dataframe tbody tr th:only-of-type {\n        vertical-align: middle;\n    }\n\n    .dataframe tbody tr th {\n        vertical-align: top;\n    }\n\n    .dataframe thead th {\n        text-align: right;\n    }\n</style>\n<table border=\"1\" class=\"dataframe\">\n  <thead>\n    <tr style=\"text-align: right;\">\n      <th></th>\n      <th>temperature (°C)</th>\n      <th>wellnumber</th>\n      <th>concentration (mM)</th>\n      <th>I^Dem_Dex</th>\n      <th>I^Aem_Dex</th>\n      <th>I'^Aem_Dex</th>\n      <th>I^Aem_Aex</th>\n    </tr>\n  </thead>\n  <tbody>\n    <tr>\n      <th>1</th>\n      <td>21</td>\n      <td>A2</td>\n      <td>0.0</td>\n      <td>8.618030e+05</td>\n      <td>8.117650e+05</td>\n      <td>6.985241e+05</td>\n      <td>4.384354e+06</td>\n    </tr>\n    <tr>\n      <th>2</th>\n      <td>21</td>\n      <td>A3</td>\n      <td>50.0</td>\n      <td>3.886350e+05</td>\n      <td>8.781200e+05</td>\n      <td>8.270534e+05</td>\n      <td>2.732183e+06</td>\n    </tr>\n    <tr>\n      <th>3</th>\n      <td>21</td>\n      <td>A4</td>\n      <td>0.0</td>\n      <td>1.258715e+06</td>\n      <td>1.136348e+06</td>\n      <td>9.709529e+05</td>\n      <td>6.049143e+06</td>\n    </tr>\n    <tr>\n      <th>4</th>\n      <td>21</td>\n      <td>A5</td>\n      <td>50.0</td>\n      <td>7.784130e+05</td>\n      <td>1.223314e+06</td>\n      <td>1.121031e+06</td>\n      <td>4.022249e+06</td>\n    </tr>\n    <tr>\n      <th>5</th>\n      <td>21</td>\n      <td>A6</td>\n      <td>0.0</td>\n      <td>1.712445e+06</td>\n      <td>9.591280e+05</td>\n      <td>7.341127e+05</td>\n      <td>7.756627e+06</td>\n    </tr>\n  </tbody>\n</table>\n</div>"
     },
     "execution_count": 16,
     "metadata": {},
     "output_type": "execute_result"
    }
   ],
   "source": [
    "pd.options.mode.chained_assignment = None\n",
    "bt_d = 0.1314\n",
    "my_id5_data_bt_corr = my_id5_data.calculate_bt_correction(FRET_measurements, bt_d)\n",
    "my_id5_data.measurements[\"Measurement_1\"].FRET_df.head()"
   ]
  },
  {
   "attachments": {},
   "cell_type": "markdown",
   "id": "dd7ae9da",
   "metadata": {},
   "source": [
    "A new column `I'^Aem_Dex` has been added after the column `I^Aem_Dex`.\n",
    "\n",
    "If the bleedthrough value is equal to zero, the function will print some information regarding the dataframe:"
   ]
  },
  {
   "cell_type": "code",
   "execution_count": 17,
   "id": "0dc6b1f6",
   "metadata": {},
   "outputs": [
    {
     "name": "stdout",
     "output_type": "stream",
     "text": [
      "Bleedthrough variable is equal to 0.\n",
      "Therefore I'^Dem_Dex is equal to I^Dem_Dex. No I'^Dem_Dex column will be added.\n"
     ]
    },
    {
     "data": {
      "text/plain": "   temperature (°C) wellnumber  concentration (mM)     I^Dem_Dex  \\\n1                21         A2                 0.0  8.618030e+05   \n2                21         A3                50.0  3.886350e+05   \n3                21         A4                 0.0  1.258715e+06   \n4                21         A5                50.0  7.784130e+05   \n5                21         A6                 0.0  1.712445e+06   \n\n      I^Aem_Dex    I'^Aem_Dex     I^Aem_Aex  \n1  8.117650e+05  6.985241e+05  4.384354e+06  \n2  8.781200e+05  8.270534e+05  2.732183e+06  \n3  1.136348e+06  9.709529e+05  6.049143e+06  \n4  1.223314e+06  1.121031e+06  4.022249e+06  \n5  9.591280e+05  7.341127e+05  7.756627e+06  ",
      "text/html": "<div>\n<style scoped>\n    .dataframe tbody tr th:only-of-type {\n        vertical-align: middle;\n    }\n\n    .dataframe tbody tr th {\n        vertical-align: top;\n    }\n\n    .dataframe thead th {\n        text-align: right;\n    }\n</style>\n<table border=\"1\" class=\"dataframe\">\n  <thead>\n    <tr style=\"text-align: right;\">\n      <th></th>\n      <th>temperature (°C)</th>\n      <th>wellnumber</th>\n      <th>concentration (mM)</th>\n      <th>I^Dem_Dex</th>\n      <th>I^Aem_Dex</th>\n      <th>I'^Aem_Dex</th>\n      <th>I^Aem_Aex</th>\n    </tr>\n  </thead>\n  <tbody>\n    <tr>\n      <th>1</th>\n      <td>21</td>\n      <td>A2</td>\n      <td>0.0</td>\n      <td>8.618030e+05</td>\n      <td>8.117650e+05</td>\n      <td>6.985241e+05</td>\n      <td>4.384354e+06</td>\n    </tr>\n    <tr>\n      <th>2</th>\n      <td>21</td>\n      <td>A3</td>\n      <td>50.0</td>\n      <td>3.886350e+05</td>\n      <td>8.781200e+05</td>\n      <td>8.270534e+05</td>\n      <td>2.732183e+06</td>\n    </tr>\n    <tr>\n      <th>3</th>\n      <td>21</td>\n      <td>A4</td>\n      <td>0.0</td>\n      <td>1.258715e+06</td>\n      <td>1.136348e+06</td>\n      <td>9.709529e+05</td>\n      <td>6.049143e+06</td>\n    </tr>\n    <tr>\n      <th>4</th>\n      <td>21</td>\n      <td>A5</td>\n      <td>50.0</td>\n      <td>7.784130e+05</td>\n      <td>1.223314e+06</td>\n      <td>1.121031e+06</td>\n      <td>4.022249e+06</td>\n    </tr>\n    <tr>\n      <th>5</th>\n      <td>21</td>\n      <td>A6</td>\n      <td>0.0</td>\n      <td>1.712445e+06</td>\n      <td>9.591280e+05</td>\n      <td>7.341127e+05</td>\n      <td>7.756627e+06</td>\n    </tr>\n  </tbody>\n</table>\n</div>"
     },
     "execution_count": 17,
     "metadata": {},
     "output_type": "execute_result"
    }
   ],
   "source": [
    "pd.options.mode.chained_assignment = None\n",
    "bt_a = 0\n",
    "my_id5_data_bt_corr = my_id5_data.calculate_bt_correction(FRET_measurements, bt_a)\n",
    "my_id5_data.measurements[\"Measurement_1\"].FRET_df.head()"
   ]
  },
  {
   "attachments": {},
   "cell_type": "markdown",
   "id": "0fab8e1e",
   "metadata": {},
   "source": [
    "The `calculate_de_correction()` function has a similar functionality. In the code block below is an example with the printed information."
   ]
  },
  {
   "cell_type": "code",
   "execution_count": 18,
   "id": "bd0e679d",
   "metadata": {},
   "outputs": [
    {
     "name": "stdout",
     "output_type": "stream",
     "text": [
      "I''^Dem_Dex equals I^Dem_Dex as I^Dem_Aex cannot physically and technically be measured.\n",
      "No I''^Dem_Dex column will be added to the FRET dataframe. Please use I^Dem_Dex.\n",
      "I''^Aem_Dex has been added to the FRET dataframe.\n"
     ]
    },
    {
     "data": {
      "text/plain": "   temperature (°C) wellnumber  concentration (mM)     I^Dem_Dex  \\\n1                21         A2                 0.0  8.618030e+05   \n2                21         A3                50.0  3.886350e+05   \n3                21         A4                 0.0  1.258715e+06   \n4                21         A5                50.0  7.784130e+05   \n5                21         A6                 0.0  1.712445e+06   \n\n      I^Aem_Dex    I'^Aem_Dex   I''^Aem_Dex     I^Aem_Aex  \n1  8.117650e+05  6.985241e+05  6.042605e+05  4.384354e+06  \n2  8.781200e+05  8.270534e+05  7.683114e+05  2.732183e+06  \n3  1.136348e+06  9.709529e+05  8.408963e+05  6.049143e+06  \n4  1.223314e+06  1.121031e+06  1.034552e+06  4.022249e+06  \n5  9.591280e+05  7.341127e+05  5.673452e+05  7.756627e+06  ",
      "text/html": "<div>\n<style scoped>\n    .dataframe tbody tr th:only-of-type {\n        vertical-align: middle;\n    }\n\n    .dataframe tbody tr th {\n        vertical-align: top;\n    }\n\n    .dataframe thead th {\n        text-align: right;\n    }\n</style>\n<table border=\"1\" class=\"dataframe\">\n  <thead>\n    <tr style=\"text-align: right;\">\n      <th></th>\n      <th>temperature (°C)</th>\n      <th>wellnumber</th>\n      <th>concentration (mM)</th>\n      <th>I^Dem_Dex</th>\n      <th>I^Aem_Dex</th>\n      <th>I'^Aem_Dex</th>\n      <th>I''^Aem_Dex</th>\n      <th>I^Aem_Aex</th>\n    </tr>\n  </thead>\n  <tbody>\n    <tr>\n      <th>1</th>\n      <td>21</td>\n      <td>A2</td>\n      <td>0.0</td>\n      <td>8.618030e+05</td>\n      <td>8.117650e+05</td>\n      <td>6.985241e+05</td>\n      <td>6.042605e+05</td>\n      <td>4.384354e+06</td>\n    </tr>\n    <tr>\n      <th>2</th>\n      <td>21</td>\n      <td>A3</td>\n      <td>50.0</td>\n      <td>3.886350e+05</td>\n      <td>8.781200e+05</td>\n      <td>8.270534e+05</td>\n      <td>7.683114e+05</td>\n      <td>2.732183e+06</td>\n    </tr>\n    <tr>\n      <th>3</th>\n      <td>21</td>\n      <td>A4</td>\n      <td>0.0</td>\n      <td>1.258715e+06</td>\n      <td>1.136348e+06</td>\n      <td>9.709529e+05</td>\n      <td>8.408963e+05</td>\n      <td>6.049143e+06</td>\n    </tr>\n    <tr>\n      <th>4</th>\n      <td>21</td>\n      <td>A5</td>\n      <td>50.0</td>\n      <td>7.784130e+05</td>\n      <td>1.223314e+06</td>\n      <td>1.121031e+06</td>\n      <td>1.034552e+06</td>\n      <td>4.022249e+06</td>\n    </tr>\n    <tr>\n      <th>5</th>\n      <td>21</td>\n      <td>A6</td>\n      <td>0.0</td>\n      <td>1.712445e+06</td>\n      <td>9.591280e+05</td>\n      <td>7.341127e+05</td>\n      <td>5.673452e+05</td>\n      <td>7.756627e+06</td>\n    </tr>\n  </tbody>\n</table>\n</div>"
     },
     "execution_count": 18,
     "metadata": {},
     "output_type": "execute_result"
    }
   ],
   "source": [
    "de_a = 0.0215\n",
    "my_id5_data_bt_corr = my_id5_data.calculate_de_correction(FRET_measurements, de_a)\n",
    "my_id5_data.measurements[\"Measurement_1\"].FRET_df.head()"
   ]
  },
  {
   "attachments": {},
   "cell_type": "markdown",
   "id": "6f846984",
   "metadata": {},
   "source": [
    "Now, the FRET values can be calculated. Please consider that the list of measurements from which FRET is to be calculated is needed and that the FRET values are added as a new column to the FRET dataframe. \n",
    "\n",
    "Parameter needed:\n",
    "- list of all FRET measurements, e.g. `FRET_measurements`"
   ]
  },
  {
   "cell_type": "code",
   "execution_count": 19,
   "id": "45a319dd",
   "metadata": {},
   "outputs": [
    {
     "data": {
      "text/plain": "   temperature (°C) wellnumber  concentration (mM)     I^Dem_Dex  \\\n1                29         A2                 0.0  8.576310e+05   \n2                29         A3                50.0  3.804210e+05   \n3                29         A4                 0.0  1.226256e+06   \n4                29         A5                50.0  7.164620e+05   \n5                29         A6                 0.0  1.661152e+06   \n\n      I^Aem_Dex    I'^Aem_Dex   I''^Aem_Dex     I^Aem_Aex      FRET  \n1  7.378110e+05  6.251183e+05  5.347467e+05  4.203331e+06  0.384053  \n2  8.307670e+05  7.807797e+05  7.276274e+05  2.472200e+06  0.656675  \n3  1.018091e+06  8.569610e+05  7.356983e+05  5.640125e+06  0.374982  \n4  1.191955e+06  1.097812e+06  1.014015e+06  3.897528e+06  0.585974  \n5  8.370460e+05  6.187706e+05  4.605590e+05  7.358679e+06  0.217070  ",
      "text/html": "<div>\n<style scoped>\n    .dataframe tbody tr th:only-of-type {\n        vertical-align: middle;\n    }\n\n    .dataframe tbody tr th {\n        vertical-align: top;\n    }\n\n    .dataframe thead th {\n        text-align: right;\n    }\n</style>\n<table border=\"1\" class=\"dataframe\">\n  <thead>\n    <tr style=\"text-align: right;\">\n      <th></th>\n      <th>temperature (°C)</th>\n      <th>wellnumber</th>\n      <th>concentration (mM)</th>\n      <th>I^Dem_Dex</th>\n      <th>I^Aem_Dex</th>\n      <th>I'^Aem_Dex</th>\n      <th>I''^Aem_Dex</th>\n      <th>I^Aem_Aex</th>\n      <th>FRET</th>\n    </tr>\n  </thead>\n  <tbody>\n    <tr>\n      <th>1</th>\n      <td>29</td>\n      <td>A2</td>\n      <td>0.0</td>\n      <td>8.576310e+05</td>\n      <td>7.378110e+05</td>\n      <td>6.251183e+05</td>\n      <td>5.347467e+05</td>\n      <td>4.203331e+06</td>\n      <td>0.384053</td>\n    </tr>\n    <tr>\n      <th>2</th>\n      <td>29</td>\n      <td>A3</td>\n      <td>50.0</td>\n      <td>3.804210e+05</td>\n      <td>8.307670e+05</td>\n      <td>7.807797e+05</td>\n      <td>7.276274e+05</td>\n      <td>2.472200e+06</td>\n      <td>0.656675</td>\n    </tr>\n    <tr>\n      <th>3</th>\n      <td>29</td>\n      <td>A4</td>\n      <td>0.0</td>\n      <td>1.226256e+06</td>\n      <td>1.018091e+06</td>\n      <td>8.569610e+05</td>\n      <td>7.356983e+05</td>\n      <td>5.640125e+06</td>\n      <td>0.374982</td>\n    </tr>\n    <tr>\n      <th>4</th>\n      <td>29</td>\n      <td>A5</td>\n      <td>50.0</td>\n      <td>7.164620e+05</td>\n      <td>1.191955e+06</td>\n      <td>1.097812e+06</td>\n      <td>1.014015e+06</td>\n      <td>3.897528e+06</td>\n      <td>0.585974</td>\n    </tr>\n    <tr>\n      <th>5</th>\n      <td>29</td>\n      <td>A6</td>\n      <td>0.0</td>\n      <td>1.661152e+06</td>\n      <td>8.370460e+05</td>\n      <td>6.187706e+05</td>\n      <td>4.605590e+05</td>\n      <td>7.358679e+06</td>\n      <td>0.217070</td>\n    </tr>\n  </tbody>\n</table>\n</div>"
     },
     "execution_count": 19,
     "metadata": {},
     "output_type": "execute_result"
    }
   ],
   "source": [
    "fret_calcs = my_id5_data.calculate_FRET(FRET_measurements)\n",
    "m1_fret_values = my_id5_data.measurements[\"Measurement_1\"].FRET_df\n",
    "m1_fret_values.head()"
   ]
  },
  {
   "attachments": {},
   "cell_type": "markdown",
   "id": "341e7da2",
   "metadata": {},
   "source": [
    "### Correction Matrices\n",
    "\n",
    "The correction matrix is needed for calculating bleedthrough and direct Excitation. Therefore it needs to be generated beforehand from the measurements of Cy3 and Cy5.\n",
    "\n",
    "The function requires the following parameters:\n",
    "1. under measurement_cy3: the specific Cy3 measurement for the correction matrix\n",
    "2. under measurement_cy5: the specific Cy5 measurement for the correction matrix\n",
    "3. under wellnumber: number of the well as a string (eg. \"A2\")\n"
   ]
  },
  {
   "cell_type": "code",
   "execution_count": 20,
   "id": "f3e396c3",
   "metadata": {},
   "outputs": [
    {
     "name": "stdout",
     "output_type": "stream",
     "text": [
      "Measurement_1 = Korrekturmatrix Flur: Endpoint, Fluorescence\n",
      "Measurement_2 = Korr.Mat. Cy3: Endpoint, Fluorescence\n",
      "Measurement_3 = Korr.Mat. Cy5: Endpoint, Fluorescence\n",
      "Measurement_4 = EmCy3: Spectrum, Fluorescence\n",
      "Measurement_5 = EmCy5: Spectrum, Fluorescence\n",
      "Measurement_6 = 20°C: Endpoint, Fluorescence\n",
      "Measurement_7 = FRET 20 °C: Endpoint, Fluorescence\n",
      "Measurement_8 = 25°C: Endpoint, Fluorescence\n",
      "Measurement_9 = FRET 25 °C: Endpoint, Fluorescence\n",
      "Measurement_10 = 30 °C: Endpoint, Fluorescence\n",
      "Measurement_11 = FRET 30 °C: Endpoint, Fluorescence\n",
      "Measurement_12 = 35°C: Endpoint, Fluorescence\n",
      "Measurement_13 = FRET 35 °C: Endpoint, Fluorescence\n",
      "Measurement_14 = 40°C: Endpoint, Fluorescence\n",
      "Measurement_15 = FRET 40 °C: Endpoint, Fluorescence\n",
      "Measurement_16 = 43°C: Endpoint, Fluorescence\n",
      "Measurement_17 = FRET 43°C: Endpoint, Fluorescence\n",
      "Measurement_18 = 45°C: Endpoint, Fluorescence\n",
      "Measurement_19 = FRET 45 °C: Endpoint, Fluorescence\n",
      "Measurement_20 = 47°C: Endpoint, Fluorescence\n",
      "Measurement_21 = FRET 47°C: Endpoint, Fluorescence\n",
      "Measurement_22 = 50°C: Endpoint, Fluorescence\n",
      "Measurement_23 = FRET 50°C: Endpoint, Fluorescence\n",
      "Measurement_24 = 52°C: Endpoint, Fluorescence\n",
      "Measurement_25 = FRET 52°C: Endpoint, Fluorescence\n",
      "Measurement_26 = 55°C: Endpoint, Fluorescence\n",
      "Measurement_27 = FRET 55°C: Endpoint, Fluorescence\n"
     ]
    }
   ],
   "source": [
    "wavelength_pairs = {\n",
    "        \"Dex_Dem\": [530, 595],\n",
    "        \"Dex_Aem\": [530, 660],\n",
    "        \"Aex_Aem\": [630, 660]}\n",
    "\n",
    "id5_data_cm = blab.ID5(\"src/id5_data/2023-03-15_Praktikum_FRET3_VS.txt\", wavelength_pairs)"
   ]
  },
  {
   "cell_type": "code",
   "execution_count": 21,
   "id": "9aaa4932",
   "metadata": {},
   "outputs": [
    {
     "data": {
      "text/plain": "array(['A5', 'A6', 'B5', 'B6'], dtype=object)"
     },
     "execution_count": 21,
     "metadata": {},
     "output_type": "execute_result"
    }
   ],
   "source": [
    "id5_data_cm.measurements[\"Measurement_2\"].working_df[\"wellnumber\"].unique()"
   ]
  },
  {
   "cell_type": "code",
   "execution_count": 22,
   "id": "da3248a3",
   "metadata": {},
   "outputs": [
    {
     "ename": "AttributeError",
     "evalue": "'ID5' object has no attribute 'calculate_correction_matrix'",
     "output_type": "error",
     "traceback": [
      "\u001B[0;31m---------------------------------------------------------------------------\u001B[0m",
      "\u001B[0;31mAttributeError\u001B[0m                            Traceback (most recent call last)",
      "\u001B[0;32m/var/folders/zf/wpmcnbjn53lgn5jk3smt4cv80000gn/T/ipykernel_79407/1396051294.py\u001B[0m in \u001B[0;36m<module>\u001B[0;34m\u001B[0m\n\u001B[0;32m----> 1\u001B[0;31m \u001B[0mcm_cy3\u001B[0m \u001B[0;34m=\u001B[0m \u001B[0mid5_data_cm\u001B[0m\u001B[0;34m.\u001B[0m\u001B[0mcalculate_correction_matrix\u001B[0m\u001B[0;34m(\u001B[0m\u001B[0mmeasurement_cy3\u001B[0m\u001B[0;34m=\u001B[0m\u001B[0;34m\"Measurement_2\"\u001B[0m\u001B[0;34m,\u001B[0m \u001B[0mmeasurement_cy5\u001B[0m\u001B[0;34m=\u001B[0m\u001B[0;34m\"Measurement_3\"\u001B[0m\u001B[0;34m,\u001B[0m \u001B[0mwellnumber\u001B[0m\u001B[0;34m=\u001B[0m\u001B[0;34m\"A5\"\u001B[0m\u001B[0;34m)\u001B[0m\u001B[0;34m\u001B[0m\u001B[0;34m\u001B[0m\u001B[0m\n\u001B[0m\u001B[1;32m      2\u001B[0m \u001B[0mcm_cy3\u001B[0m\u001B[0;34m\u001B[0m\u001B[0;34m\u001B[0m\u001B[0m\n",
      "\u001B[0;31mAttributeError\u001B[0m: 'ID5' object has no attribute 'calculate_correction_matrix'"
     ]
    }
   ],
   "source": [
    "cm_cy3 = id5_data_cm.calculate_correction_matrix(measurement_cy3=\"Measurement_2\", measurement_cy5=\"Measurement_3\", wellnumber=\"A5\")\n",
    "cm_cy3"
   ]
  },
  {
   "cell_type": "code",
   "execution_count": 24,
   "id": "d70b8bb7",
   "metadata": {},
   "outputs": [
    {
     "ename": "AttributeError",
     "evalue": "'ID5' object has no attribute 'calculate_correction_matrix'",
     "output_type": "error",
     "traceback": [
      "\u001B[0;31m---------------------------------------------------------------------------\u001B[0m",
      "\u001B[0;31mAttributeError\u001B[0m                            Traceback (most recent call last)",
      "\u001B[0;32m/var/folders/zf/wpmcnbjn53lgn5jk3smt4cv80000gn/T/ipykernel_79407/3550091790.py\u001B[0m in \u001B[0;36m<module>\u001B[0;34m\u001B[0m\n\u001B[0;32m----> 1\u001B[0;31m \u001B[0mcm_cy5\u001B[0m \u001B[0;34m=\u001B[0m \u001B[0mid5_data_cm\u001B[0m\u001B[0;34m.\u001B[0m\u001B[0mcalculate_correction_matrix\u001B[0m\u001B[0;34m(\u001B[0m\u001B[0;34m\"Measurement_2\"\u001B[0m\u001B[0;34m,\u001B[0m \u001B[0;34m\"Measurement_3\"\u001B[0m\u001B[0;34m,\u001B[0m \u001B[0;34m\"B5\"\u001B[0m\u001B[0;34m)\u001B[0m\u001B[0;34m\u001B[0m\u001B[0;34m\u001B[0m\u001B[0m\n\u001B[0m\u001B[1;32m      2\u001B[0m \u001B[0mcm_cy5\u001B[0m\u001B[0;34m\u001B[0m\u001B[0;34m\u001B[0m\u001B[0m\n",
      "\u001B[0;31mAttributeError\u001B[0m: 'ID5' object has no attribute 'calculate_correction_matrix'"
     ]
    }
   ],
   "source": [
    "cm_cy5 = id5_data_cm.calculate_correction_matrix(\"Measurement_2\", \"Measurement_3\", \"B5\")\n",
    "cm_cy5"
   ]
  },
  {
   "attachments": {},
   "cell_type": "markdown",
   "id": "101c757c",
   "metadata": {},
   "source": [
    "### <u>Calculating bleedthrough and direct excitation</u>\n",
    "\n",
    "The function `calculate_bleedthrough()` is used to calculate the bleedthrough, either of the donor or the acceptor, whereas the function `calculate_directExcitation()` is used to calculate the direct excitation of either donor or acceptor. \n",
    "\n",
    "The functions require: \n",
    "1. the correction matrix\n",
    "2. the donor (\"D\") or acceptor (\"A\") type"
   ]
  },
  {
   "cell_type": "code",
   "execution_count": 25,
   "id": "50b49619",
   "metadata": {},
   "outputs": [
    {
     "ename": "AttributeError",
     "evalue": "'ID5' object has no attribute 'calculate_bleedthrough'",
     "output_type": "error",
     "traceback": [
      "\u001B[0;31m---------------------------------------------------------------------------\u001B[0m",
      "\u001B[0;31mAttributeError\u001B[0m                            Traceback (most recent call last)",
      "\u001B[0;32m/var/folders/zf/wpmcnbjn53lgn5jk3smt4cv80000gn/T/ipykernel_79407/4057453342.py\u001B[0m in \u001B[0;36m<module>\u001B[0;34m\u001B[0m\n\u001B[0;32m----> 1\u001B[0;31m \u001B[0mbt_d\u001B[0m \u001B[0;34m=\u001B[0m \u001B[0mid5_data_cm\u001B[0m\u001B[0;34m.\u001B[0m\u001B[0mcalculate_bleedthrough\u001B[0m\u001B[0;34m(\u001B[0m\u001B[0mcm_cy3\u001B[0m\u001B[0;34m,\u001B[0m \u001B[0;34m\"D\"\u001B[0m\u001B[0;34m)\u001B[0m\u001B[0;34m\u001B[0m\u001B[0;34m\u001B[0m\u001B[0m\n\u001B[0m\u001B[1;32m      2\u001B[0m \u001B[0mbt_a\u001B[0m \u001B[0;34m=\u001B[0m \u001B[0mid5_data_cm\u001B[0m\u001B[0;34m.\u001B[0m\u001B[0mcalculate_bleedthrough\u001B[0m\u001B[0;34m(\u001B[0m\u001B[0mcm_cy5\u001B[0m\u001B[0;34m,\u001B[0m \u001B[0;34m\"A\"\u001B[0m\u001B[0;34m)\u001B[0m\u001B[0;34m\u001B[0m\u001B[0;34m\u001B[0m\u001B[0m\n\u001B[1;32m      3\u001B[0m \u001B[0;34m\u001B[0m\u001B[0m\n\u001B[1;32m      4\u001B[0m \u001B[0mde_d\u001B[0m \u001B[0;34m=\u001B[0m \u001B[0mid5_data_cm\u001B[0m\u001B[0;34m.\u001B[0m\u001B[0mcalculate_directExcitation\u001B[0m\u001B[0;34m(\u001B[0m\u001B[0mcm_cy3\u001B[0m\u001B[0;34m,\u001B[0m \u001B[0;34m\"D\"\u001B[0m\u001B[0;34m)\u001B[0m\u001B[0;34m\u001B[0m\u001B[0;34m\u001B[0m\u001B[0m\n\u001B[1;32m      5\u001B[0m \u001B[0mde_a\u001B[0m \u001B[0;34m=\u001B[0m \u001B[0mid5_data_cm\u001B[0m\u001B[0;34m.\u001B[0m\u001B[0mcalculate_directExcitation\u001B[0m\u001B[0;34m(\u001B[0m\u001B[0mcm_cy5\u001B[0m\u001B[0;34m,\u001B[0m \u001B[0;34m\"A\"\u001B[0m\u001B[0;34m)\u001B[0m\u001B[0;34m\u001B[0m\u001B[0;34m\u001B[0m\u001B[0m\n",
      "\u001B[0;31mAttributeError\u001B[0m: 'ID5' object has no attribute 'calculate_bleedthrough'"
     ]
    }
   ],
   "source": [
    "bt_d = id5_data_cm.calculate_bleedthrough(cm_cy3, \"D\")\n",
    "bt_a = id5_data_cm.calculate_bleedthrough(cm_cy5, \"A\")\n",
    "\n",
    "de_d = id5_data_cm.calculate_directExcitation(cm_cy3, \"D\")\n",
    "de_a = id5_data_cm.calculate_directExcitation(cm_cy5, \"A\")"
   ]
  },
  {
   "attachments": {},
   "cell_type": "markdown",
   "id": "27afc560",
   "metadata": {},
   "source": [
    "As you can see, these functions print out some information concerning the calculations. It can happen, that values in the correction matrix are zero. In this case, the bleedthrough or direct excitation are set to 0."
   ]
  },
  {
   "attachments": {},
   "cell_type": "markdown",
   "id": "2bf3744c",
   "metadata": {},
   "source": [
    "### <u> Calculations</u>\n",
    "\n",
    "The calculated corrections for bleedtrough, direct excitation and FRET were taken from\n",
    " \n",
    "    Börner R, Kowerko D, Hadzic MCAS, König SLB, Ritter M, et al. (2018)\n",
    "    Simulations of camera-based single-molecule fluorescence experiments. PLOS ONE 13(4): e0195277.\n",
    "    https://doi.org/10.1371/journal.pone.0195277"
   ]
  },
  {
   "attachments": {},
   "cell_type": "markdown",
   "id": "e142f542",
   "metadata": {},
   "source": [
    "## Carry\n",
    "\n",
    "The Cary 3500 is one of the laboratory equipment in our research group `B-Lab`. In the following, there are necessary functions for reading Cary-files, so that further analyses on the data can be accomplished.\\\n",
    "Also please notice the output prints of functions! Some functions have valuable information or error messages!"
   ]
  },
  {
   "attachments": {},
   "cell_type": "markdown",
   "id": "d6fc440c",
   "metadata": {},
   "source": [
    "### <u>Reading the files</u>\n",
    "\n",
    "Cary files must be saved by the user in csv- and utf-8 format.\n",
    "The Carry device has two different output file formats: one with additional data (for absorption measurements) and one without (for meltcurve measurements). This additional data, the meta data, is only present in \"CSV Reports\".\n",
    "\n",
    "First, you must define the names of your construct samples, as seen in the code block below. Therefore, the function for reading Carry-files with meta data requires\n",
    "- the file path & the variable name to your list of samples e.g. `blab.carry(\"filename_or_filepath\", samples_variable)`"
   ]
  },
  {
   "cell_type": "code",
   "execution_count": null,
   "outputs": [],
   "source": [
    "cary = Cary(file_path=\"path/to/your/data\") # Mirko variant for Paul\n",
    "# accessing data in tidy format with cary.data\n",
    "# accessing hyperparameters with cary.hyperparameters"
   ],
   "metadata": {
    "collapsed": false
   },
   "id": "bdc82fd1142c90f6"
  },
  {
   "cell_type": "code",
   "execution_count": 26,
   "id": "f2e69dbe",
   "metadata": {},
   "outputs": [
    {
     "name": "stdout",
     "output_type": "stream",
     "text": [
      "﻿CSV Report,2023-02-14_UV-VIS_RNA_VS.csv\n",
      "\n",
      "Carrydata with meta\n",
      "﻿CSV Report,2023-02-14_UV-VIS_RNA_VS.csv\n",
      "\n",
      "\n",
      "To access the data dictionary (measurements and meta data), use the following keys:\n",
      "Metadata_Method_1\n",
      "Metadata_Samples_1\n",
      "Measurement_1\n",
      "\n"
     ]
    }
   ],
   "source": [
    "sam_names = ['KL 1.1', 'KL 1.2', 'TL 2.1', 'TL 2.2']\n",
    "carry_with_meta = blab.Carry(file_path=\"src/carry_data/2023-02-14_UV-VIS_RNA_KL-TL_VS.csv\", sample_names=sam_names)"
   ]
  },
  {
   "attachments": {},
   "cell_type": "markdown",
   "id": "bf49f221",
   "metadata": {},
   "source": [
    "To access the meta data and/or the dataframe itself, see the following code:"
   ]
  },
  {
   "cell_type": "code",
   "execution_count": 27,
   "id": "091b4059",
   "metadata": {},
   "outputs": [
    {
     "data": {
      "text/plain": "{'X mode': ['nm'],\n 'Y mode': ['Abs'],\n 'Collect mode': ['Scan'],\n 'Scan range start (nm)': ['800.00'],\n 'Scan range stop (nm)': ['200.00'],\n 'Data Interval (nm)': ['1.00'],\n 'Scan rate (nm/min)': ['3000'],\n 'Averaging Time (s)': ['.02'],\n 'Spectral Bandwidth (nm)': ['2'],\n 'Detector module': ['Multicell Peltier UV-Vis'],\n 'Baseline': ['Off'],\n 'Experiment Zones': ['1']}"
     },
     "execution_count": 27,
     "metadata": {},
     "output_type": "execute_result"
    }
   ],
   "source": [
    "methods = carry_with_meta.measurements[\"Metadata_Method_1\"]\n",
    "methods"
   ]
  },
  {
   "cell_type": "code",
   "execution_count": 28,
   "id": "1efd277f",
   "metadata": {},
   "outputs": [
    {
     "data": {
      "text/plain": "{'Collection Time': ['2023-02-14 13:00:11 (+01:00)',\n  '2023-02-14 13:00:11 (+01:00)',\n  '2023-02-14 13:00:11 (+01:00)',\n  '2023-02-14 13:00:11 (+01:00)'],\n 'Cell Number': ['Cell 1', 'Cell 2', 'Cell 3', 'Cell 4'],\n 'Module Serial Number': ['MY2226ZC01',\n  'MY2226ZC01',\n  'MY2226ZC01',\n  'MY2226ZC01'],\n 'Temperatures (°C)': [],\n 'Instrument Serial Number': ['MY2228ZA03',\n  'MY2228ZA03',\n  'MY2228ZA03',\n  'MY2228ZA03'],\n 'Instrument Name': ['MY2228ZA03', 'MY2228ZA03', 'MY2228ZA03', 'MY2228ZA03']}"
     },
     "execution_count": 28,
     "metadata": {},
     "output_type": "execute_result"
    }
   ],
   "source": [
    "samples = carry_with_meta.measurements[\"Metadata_Samples_1\"]\n",
    "samples"
   ]
  },
  {
   "cell_type": "code",
   "execution_count": 29,
   "id": "248d9574",
   "metadata": {},
   "outputs": [
    {
     "data": {
      "text/plain": "     wavelength (nm)  sample value (RFU)\n0              800.0  KL 1.1    0.013986\n1              799.0  KL 1.1     0.01385\n2              798.0  KL 1.1    0.013571\n3              797.0  KL 1.1    0.013569\n4              796.0  KL 1.1    0.013859\n...              ...     ...         ...\n2399           204.0  TL 2.2    0.050071\n2400           203.0  TL 2.2    0.046524\n2401           202.0  TL 2.2    0.042315\n2402           201.0  TL 2.2    0.037324\n2403           200.0  TL 2.2    0.031121\n\n[2404 rows x 3 columns]",
      "text/html": "<div>\n<style scoped>\n    .dataframe tbody tr th:only-of-type {\n        vertical-align: middle;\n    }\n\n    .dataframe tbody tr th {\n        vertical-align: top;\n    }\n\n    .dataframe thead th {\n        text-align: right;\n    }\n</style>\n<table border=\"1\" class=\"dataframe\">\n  <thead>\n    <tr style=\"text-align: right;\">\n      <th></th>\n      <th>wavelength (nm)</th>\n      <th>sample</th>\n      <th>value (RFU)</th>\n    </tr>\n  </thead>\n  <tbody>\n    <tr>\n      <th>0</th>\n      <td>800.0</td>\n      <td>KL 1.1</td>\n      <td>0.013986</td>\n    </tr>\n    <tr>\n      <th>1</th>\n      <td>799.0</td>\n      <td>KL 1.1</td>\n      <td>0.01385</td>\n    </tr>\n    <tr>\n      <th>2</th>\n      <td>798.0</td>\n      <td>KL 1.1</td>\n      <td>0.013571</td>\n    </tr>\n    <tr>\n      <th>3</th>\n      <td>797.0</td>\n      <td>KL 1.1</td>\n      <td>0.013569</td>\n    </tr>\n    <tr>\n      <th>4</th>\n      <td>796.0</td>\n      <td>KL 1.1</td>\n      <td>0.013859</td>\n    </tr>\n    <tr>\n      <th>...</th>\n      <td>...</td>\n      <td>...</td>\n      <td>...</td>\n    </tr>\n    <tr>\n      <th>2399</th>\n      <td>204.0</td>\n      <td>TL 2.2</td>\n      <td>0.050071</td>\n    </tr>\n    <tr>\n      <th>2400</th>\n      <td>203.0</td>\n      <td>TL 2.2</td>\n      <td>0.046524</td>\n    </tr>\n    <tr>\n      <th>2401</th>\n      <td>202.0</td>\n      <td>TL 2.2</td>\n      <td>0.042315</td>\n    </tr>\n    <tr>\n      <th>2402</th>\n      <td>201.0</td>\n      <td>TL 2.2</td>\n      <td>0.037324</td>\n    </tr>\n    <tr>\n      <th>2403</th>\n      <td>200.0</td>\n      <td>TL 2.2</td>\n      <td>0.031121</td>\n    </tr>\n  </tbody>\n</table>\n<p>2404 rows × 3 columns</p>\n</div>"
     },
     "execution_count": 29,
     "metadata": {},
     "output_type": "execute_result"
    }
   ],
   "source": [
    "data = carry_with_meta.measurements[\"Measurement_1\"]\n",
    "data"
   ]
  },
  {
   "attachments": {},
   "cell_type": "markdown",
   "id": "efe50d7e",
   "metadata": {},
   "source": [
    "If you have a file without the meta data, the access to the data ist a bit different. First of all, you don't need an extra list with construct sample names. A filepath is nevertheless required."
   ]
  },
  {
   "cell_type": "code",
   "execution_count": null,
   "id": "abf3bcaa",
   "metadata": {},
   "outputs": [],
   "source": [
    "carry_without_meta = blab.Carry(file_path=\"src/carry_data/Export Data 2023_03_31_DNA_verdunnt_Schmelzkurve_PL.csv\")"
   ]
  },
  {
   "attachments": {},
   "cell_type": "markdown",
   "id": "76344f92",
   "metadata": {},
   "source": [
    "Access the dataframe itself:"
   ]
  },
  {
   "cell_type": "code",
   "execution_count": null,
   "id": "005eb79d",
   "metadata": {},
   "outputs": [],
   "source": [
    "carry_without_meta.data"
   ]
  },
  {
   "attachments": {},
   "cell_type": "markdown",
   "id": "86cabb08",
   "metadata": {},
   "source": [
    "Either way, the dataframes are in tidy data format for easy accessibility and quick visualisations. With those dataframes, one can continue as pleased.  "
   ]
  },
  {
   "attachments": {},
   "cell_type": "markdown",
   "id": "8ecbbcea",
   "metadata": {},
   "source": [
    "## Genesis\n",
    "\n",
    "The Genesis 50 is one of the laboratory equipement in our research group `B-Lab`. In the following, there are nessessary functions for reading Genesis-files, so that further analyses on the data can be accomplished.\\\\\n",
    "Also please notice the output prints of functions! Some functions have valuable information or error messages!\n",
    "\n",
    "### <u>Reading the files</u>\n",
    "\n",
    "Carry-files must be saved by the user in csv- and utf-8 format."
   ]
  },
  {
   "cell_type": "code",
   "execution_count": null,
   "id": "2eaf51bc",
   "metadata": {},
   "outputs": [],
   "source": [
    "genesis_data = blab.Genesis(file_path=\"src/genesis_data/Scan_3_15_2023_1_21_01_PM.csv\")\n"
   ]
  },
  {
   "attachments": {},
   "cell_type": "markdown",
   "id": "7cd76901",
   "metadata": {},
   "source": [
    "After reading the files, the function prints out an overview of all measurements in the file. The Measurements are named after the users input while operating the Genesis device.\\\n",
    "To access the individual measurements, use the following code:"
   ]
  },
  {
   "cell_type": "code",
   "execution_count": null,
   "id": "3bfdaa38",
   "metadata": {},
   "outputs": [],
   "source": [
    "my_gen_data_m1 = genesis_data.measurements[\"Measurement_F_1_uM\"]\n",
    "my_gen_data_m1"
   ]
  },
  {
   "attachments": {},
   "cell_type": "markdown",
   "id": "753da8f4",
   "metadata": {},
   "source": [
    "If there are multiple scans of one concentration, the mean values are automatically added to the end dataframes. Furthermore, a measurement (dataframe) with all mean values to each concentration is generated:"
   ]
  },
  {
   "cell_type": "code",
   "execution_count": null,
   "id": "574ca142",
   "metadata": {},
   "outputs": [],
   "source": [
    "my_gen_data_means = genesis_data.measurements[\"Means_all\"]\n",
    "my_gen_data_means"
   ]
  },
  {
   "attachments": {},
   "cell_type": "markdown",
   "id": "924327a5",
   "metadata": {},
   "source": [
    "As you can see, it already is in tidy data format and can now be used for visualizations. "
   ]
  },
  {
   "cell_type": "code",
   "execution_count": null,
   "id": "d6b42020",
   "metadata": {},
   "outputs": [],
   "source": [
    "sampl_num = len(my_gen_data_means['measurement'].unique())\n",
    "print(my_gen_data_means['measurement'].unique())\n",
    "\n",
    "fig, ax = plt.subplots(figsize=(12, 10))\n",
    "colormap = plt.get_cmap('jet', sampl_num)\n",
    "i = 0\n",
    "for name, group in my_gen_data_means.groupby('measurement'):\n",
    "        ax.plot(group['wavelength (nm)'], group['mean Abs'], c = colormap(i), label = name, marker='x', linewidth=0.5)\n",
    "        i += 1\n",
    "\n",
    "ax.set_xlabel(r'Wavelength $\\lambda$ (nm)')\n",
    "ax.set_ylabel('Absorbance (OD)')\n",
    "plt.legend(loc='best')\n",
    "plt.show()"
   ]
  },
  {
   "attachments": {},
   "cell_type": "markdown",
   "id": "265e80c9",
   "metadata": {},
   "source": [
    "## Nanodrop\n",
    "\n",
    "The Nanodrop is another of the laboratory equipement in our research group `B-Lab`. In the following, there are nessessary functions for reading and visualizing Genesis-files, so that further analyses on the data can be accomplished.\\\\\n",
    "Also please notice the output prints of functions! Some functions have valuable information or error messages!\n",
    "\n",
    "### <u>Reading the files</u>\n",
    "\n",
    "Nanodrop-files must be saved by the user in tsv- and utf-8 format."
   ]
  },
  {
   "cell_type": "code",
   "execution_count": null,
   "id": "151cc6c0",
   "metadata": {},
   "outputs": [],
   "source": [
    "data_nano = blab.Nanodrop(file_path=\"src/nanodrop_data/RNA_BK_12_06_23_E2.tsv\")\n",
    "whole_nano = data_nano.working_df\n",
    "whole_nano"
   ]
  },
  {
   "attachments": {},
   "cell_type": "markdown",
   "id": "d926bbeb",
   "metadata": {},
   "source": [
    "The file contains the measurements of four different samples, with wavelengths, the absorbance values and the date & time. To get information about the possible samples, you can use the function `print_samples()`."
   ]
  },
  {
   "cell_type": "code",
   "execution_count": null,
   "id": "fad5201e",
   "metadata": {},
   "outputs": [],
   "source": [
    "data_nano.print_samples()"
   ]
  },
  {
   "attachments": {},
   "cell_type": "markdown",
   "id": "c19e6531",
   "metadata": {},
   "source": [
    "To access only the data of one sample, you can use the `get_sample()` function:"
   ]
  },
  {
   "cell_type": "code",
   "execution_count": null,
   "id": "3a0a8cae",
   "metadata": {},
   "outputs": [],
   "source": [
    "sample1 = data_nano.get_sample(\"Sample 1\")\n",
    "sample1"
   ]
  },
  {
   "attachments": {},
   "cell_type": "markdown",
   "id": "0e5e99fc",
   "metadata": {},
   "source": [
    "The Nanodrop-Class is (until now) the only one, which has a function to plot the data. With `plot_sample()`, the data of one sample can be plotted. \n",
    "- The function requires the name of the sample you would like to visualize and a color as such: \n",
    "`data_nano.plot_sample(\"sample_name\", color = \"blue\")`"
   ]
  },
  {
   "cell_type": "code",
   "execution_count": null,
   "id": "f53ffd37",
   "metadata": {},
   "outputs": [],
   "source": [
    "plot_1 = data_nano.plot_sample(\"Sample 1\", color=\"blue\")\n",
    "plot_2 = data_nano.plot_sample(\"Sample 2\", color=\"cyan\")\n",
    "plot_3 = data_nano.plot_sample(\"Sample 3\", color=\"gold\")\n",
    "plot_4 = data_nano.plot_sample(\"Sample 4\", color=\"firebrick\")"
   ]
  },
  {
   "attachments": {},
   "cell_type": "markdown",
   "id": "827d5b7a",
   "metadata": {},
   "source": [
    "To plot all samples in one plot, you can use the function `plot_all_samples()`:"
   ]
  },
  {
   "cell_type": "code",
   "execution_count": null,
   "id": "de7a4403",
   "metadata": {},
   "outputs": [],
   "source": [
    "plot_all = data_nano.plot_all_samples()"
   ]
  },
  {
   "attachments": {},
   "cell_type": "markdown",
   "id": "8af94096",
   "metadata": {},
   "source": [
    "Saving the visualizations can be achieved with the following line of code. It requires a filename (e.g. \"`nano_plot.png`\") and a resolution of 300 dpi. "
   ]
  },
  {
   "cell_type": "code",
   "execution_count": null,
   "id": "61044034",
   "metadata": {},
   "outputs": [],
   "source": [
    "# save figure\n",
    "plot_all.savefig(\"nano_plot.png\", dpi=300, bbox_inches = 'tight')"
   ]
  }
 ],
 "metadata": {
  "kernelspec": {
   "display_name": "PyVo",
   "language": "python",
   "name": "pyvo"
  },
  "language_info": {
   "codemirror_mode": {
    "name": "ipython",
    "version": 3
   },
   "file_extension": ".py",
   "mimetype": "text/x-python",
   "name": "python",
   "nbconvert_exporter": "python",
   "pygments_lexer": "ipython3",
   "version": "3.8.12"
  }
 },
 "nbformat": 4,
 "nbformat_minor": 5
}
